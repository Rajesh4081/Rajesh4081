{
  "nbformat": 4,
  "nbformat_minor": 0,
  "metadata": {
    "colab": {
      "provenance": []
    },
    "kernelspec": {
      "name": "python3",
      "display_name": "Python 3"
    },
    "language_info": {
      "name": "python"
    }
  },
  "cells": [
    {
      "cell_type": "markdown",
      "source": [
        "Q.1 Calculate the length of transition curve on a plain terrain using the\n",
        "following data.\n",
        "Design speed = 65 kmph, Radius of curvature- 220 m. Allowable rate of\n",
        "introduction of superelevation (pavement rotated about its centerline) = 1\n",
        "in 150, Pavement width including extra widening 7.5 m"
      ],
      "metadata": {
        "id": "PQIM5v1gKQYF"
      }
    },
    {
      "cell_type": "code",
      "source": [
        "#To Calculate the length of transition curve\n",
        "V= int(input(\"Enter the value of design speed: \"))\n",
        "R= int(input(\"Enter the value of Radius of curvature: \"))\n",
        "N= int(input(\"Enter the value of slope: \"))\n",
        "W= float(input(\"Enter the value of width of road including extra widening: \"))\n",
        "emax=float(input(\"'enter the value for plain terain:\"))\n",
        "ecal= (V*V/(225*R))\n",
        "print(\"The value of Super elevation:\",ecal) if ecal<emax else print(emax)\n",
        "Ls=(emax*N*W/2)\n",
        "print(\"The length of transition curve:\", Ls)"
      ],
      "metadata": {
        "colab": {
          "base_uri": "https://localhost:8080/"
        },
        "id": "HyaYNN31KXIm",
        "outputId": "a3f09433-f33d-45bc-8612-13f952ab7c5d"
      },
      "execution_count": null,
      "outputs": [
        {
          "output_type": "stream",
          "name": "stdout",
          "text": [
            "Enter the value of design speed: 65\n",
            "Enter the value of Radius of curvature: 220\n",
            "Enter the value of slope: 150\n",
            "Enter the value of width of road including extra widening: 7.5\n",
            "'enter the value for plain terain:0.07\n",
            "0.07\n",
            "The length of transition curve: 39.37500000000001\n"
          ]
        }
      ]
    },
    {
      "cell_type": "markdown",
      "source": [
        "Q.2. Calculate 10 years EWL and traffic index value using following data.\n",
        "\n",
        "Assume 60% increase in traffic in next 10 years. Calculate the thickness of\n",
        "the pavement required if R = 48 and C= 16."
      ],
      "metadata": {
        "id": "mu4uYeYVK0Rn"
      }
    },
    {
      "cell_type": "code",
      "source": [],
      "metadata": {
        "id": "wFMLJh50L9Ke"
      },
      "execution_count": null,
      "outputs": []
    },
    {
      "source": [
        "R = int(input(\" Constant R: \"))\n",
        "C = int (input (\" Constant C: \"))\n",
        "import numpy as geek\n",
        "A = int(input (\"Total Data Values for EWL Constant: \"))\n",
        "B = int(input (\"Total Data Values for AADT: \"))\n",
        "EWL_Constant = []\n",
        "AADT = []\n",
        "for i in range (1, A+1):\n",
        "    # Indented to be part of the for loop\n",
        "    print (\"Enter EWL Constant:\")\n",
        "    A = float (input())\n",
        "    EWL_Constant. append(A)\n",
        "for j in range (1, B+1): # Fixed typo here: l to 1\n",
        "    print (\"Enter AADT: \")\n",
        "    B = float (input ())\n",
        "    AADT. append (B)\n",
        "product = geek. dot (EWL_Constant, AADT)\n",
        "# print(\" Dot Product\") # Comment out incomplete line\n",
        "Total_EWL = product # Added underscore to match later usage\n",
        "print (\" Total EWL :\", Total_EWL)\n",
        "print (\"EWL after 60 years :\", Total_EWL*1.6)\n",
        "TI = 1.35*(((1.6* Total_EWL) + ((product) /2)) **0.11)\n",
        "print (\"Traffic Index : \", TI)\n",
        "Output = 0.166*TI* (99-R)/(C**0.2) # Removed \"Thickness =\" as it overwrites the function\n",
        "print (\"Pavement Thickness: \", Output, \"cm\")"
      ],
      "cell_type": "code",
      "metadata": {
        "colab": {
          "base_uri": "https://localhost:8080/"
        },
        "id": "Vrlu6aqgMBId",
        "outputId": "0d08eaf5-f718-443c-a6aa-8f0aff1385cc"
      },
      "execution_count": null,
      "outputs": [
        {
          "output_type": "stream",
          "name": "stdout",
          "text": [
            " Constant R: 48\n",
            " Constant C: 16\n",
            "Total Data Values for EWL Constant: 4\n",
            "Total Data Values for AADT: 4\n",
            "Enter EWL Constant:\n",
            "330\n",
            "Enter EWL Constant:\n",
            "1070\n",
            "Enter EWL Constant:\n",
            "2460\n",
            "Enter EWL Constant:\n",
            "4620\n",
            "Enter AADT: \n",
            "3750\n",
            "Enter AADT: \n",
            "470\n",
            "Enter AADT: \n",
            "320\n",
            "Enter AADT: \n",
            "120\n",
            " Total EWL : 3082000.0\n",
            "EWL after 60 years : 4931200.0\n",
            "Traffic Index :  7.577910657490486\n",
            "Pavement Thickness:  36.847136933326986 cm\n"
          ]
        }
      ]
    },
    {
      "cell_type": "markdown",
      "source": [
        "Q.3. CBR test was conducted for soil subgrade and following results were\n",
        "found. Compacted soil CBR = 6%, Poorly graded Gravels CBR = 12%,\n",
        "Well graded Gravel CBR = 60%, Bituminous surface of thickness 4cm.\n",
        "Assume wheel load as 4085 kg and tyre pressure as 7 kg/cm."
      ],
      "metadata": {
        "id": "04Kz_G-jM2cT"
      }
    },
    {
      "cell_type": "code",
      "source": [
        "P =float (input(\" Load in kg: \"))\n",
        "p =float (input (\" Tyre pressure kg/cm^2: \"))\n",
        "M =int (input (\"Total Number of layers in a given Pavement : \"))\n",
        "pi = 3.14159\n",
        "CBR = []\n",
        "for i in range (1, M+1):\n",
        "    print (\"California Bearing Ratio of Material in %\")\n",
        "CBR_value = float (input ())\n",
        "CBR.append (CBR_value)\n",
        "T = ((1.75*P)/ (CBR_value) -(P/(p*pi)) ) **0.5\n",
        "print (\"Thickness Above this layer: \", T, \"cm\")\n",
        "print (\"Given that bitumen layer of 4 cm\")"
      ],
      "metadata": {
        "colab": {
          "base_uri": "https://localhost:8080/"
        },
        "id": "wfcDq1DvNKi9",
        "outputId": "fd85f7ce-2f4b-465e-8ea0-bae9edbb4ae1"
      },
      "execution_count": null,
      "outputs": [
        {
          "output_type": "stream",
          "name": "stdout",
          "text": [
            " Load in kg: 4085\n",
            " Tyre pressure kg/cm^2: 7\n",
            "Total Number of layers in a given Pavement : 3\n",
            "California Bearing Ratio of Material in %\n",
            "California Bearing Ratio of Material in %\n",
            "California Bearing Ratio of Material in %\n",
            "6\n",
            "Thickness Above this layer:  31.712799015896838 cm\n",
            "Given that bitumen layer of 4 cm\n"
          ]
        }
      ]
    }
  ]
}