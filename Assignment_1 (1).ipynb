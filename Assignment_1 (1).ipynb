{
  "nbformat": 4,
  "nbformat_minor": 0,
  "metadata": {
    "colab": {
      "provenance": []
    },
    "kernelspec": {
      "name": "python3",
      "display_name": "Python 3"
    },
    "language_info": {
      "name": "python"
    }
  },
  "cells": [
    {
      "cell_type": "code",
      "execution_count": null,
      "metadata": {
        "colab": {
          "base_uri": "https://localhost:8080/"
        },
        "id": "yXtYbk-r4iVS",
        "outputId": "40ad2320-98b6-42f5-90e1-04bf49632106"
      },
      "outputs": [
        {
          "output_type": "stream",
          "name": "stdout",
          "text": [
            "Enter the value of Discharge:4.84.8\n",
            "Enter the value of top width:22\n",
            "Enter the value of acceleration due to Gravity:9.819.81\n",
            "enter the value of upstream depth:1.61.6\n",
            "Enter the Value of hump: 0.50.5\n",
            "The value of discharge per meter width is: 2.4\n",
            "The value of upstream area is: 3.2\n",
            "The value of Froude number is: 2.5701176212687153\n",
            "The flow is Super Critical Flow\n",
            "The value of Energy at initial Section is: 1.714678899082569\n",
            "The value of downstream Energy E2 is: 1.214678899082569\n",
            "The Value of critical depth is: 1.6868653306034984\n",
            "The value of critical Energy is 2.5302979959052476\n",
            "Chocking Conditlon\n",
            "The value of maxinmum hump is: -0.8156190968226786\n"
          ]
        }
      ],
      "source": [
        "#Assignment no.1\n",
        "\n",
        "# To find the downstream depth of open channel\n",
        "# Given Data\n",
        "Q = float (input(\"Enter the value of Discharge:4.8\")) # Removed unexpected indent\n",
        "T= int(input(\"Enter the value of top width:2\"))\n",
        "g=float(input(\"Enter the value of acceleration due to Gravity:9.81\"))\n",
        "y1 = float(input(\"enter the value of upstream depth:1.6\"))\n",
        "Z= float(input(\"Enter the Value of hump: 0.5\"))\n",
        "# Dicharge per meter width\n",
        "q=Q/T\n",
        "print (\"The value of discharge per meter width is:\", q)\n",
        "# Area Calculation\n",
        "A1= T*y1\n",
        "print (\"The value of upstream area is:\", A1)\n",
        "\n",
        "# Calculation of Froude Number\n",
        "Fr1 = (Q*Q*T)/(g*A1* A1 *A1) **0.5 # Fixed extra multiplication operator\n",
        "print (\"The value of Froude number is:\", Fr1)\n",
        "\n",
        "if Fr1>1:\n",
        "    print(\"The flow is Super Critical Flow\") # Added indentation\n",
        "else:\n",
        "    print(\"The flow is Sub Critical Flow\") # Added indentation\n",
        "#Upstream Energy\n",
        "E1 = y1 + (Q*Q)/(2 *g*A1 *A1)\n",
        "print (\"The value of Energy at initial Section is:\", E1)\n",
        "# Downstream Energy\n",
        "E2 = E1 -Z\n",
        "print (\"The value of downstream Energy E2 is:\", E2)\n",
        "# Critical Depth\n",
        "# You need to define 'a' and 'e' here.\n",
        "# Assuming 'a' is the area of flow and 'e' is the hydraulic radius.\n",
        "a = 10  # Replace with the actual calculation or value for area of flow\n",
        "e = 5  # Replace with the actual calculation or value for hydraulic radius\n",
        "yc = (q*a/e)**(1/3)\n",
        "print (\"The Value of critical depth is:\", yc)\n",
        "Ec = 1.5*yc # Replaced comma with a period for float multiplication\n",
        "print (\"The value of critical Energy is\", Ec)\n",
        "if Ec>E2:\n",
        "    print (\"Chocking Conditlon\") # Added indentation\n",
        "else:\n",
        "    print (\"SAFE\") # Added indentation\n",
        "# Calculation of Zmax\n",
        "Zmax =E1- Ec # Changed 'El' to 'E1' assuming it was a typo\n",
        "print (\"The value of maxinmum hump is:\", Zmax)\n"
      ]
    },
    {
      "cell_type": "code",
      "source": [
        "# To find the downstream depth of open channel\n",
        "# Given Data\n",
        "Q = float(input(\"Enter the value of Discharge:15 \"))\n",
        "B1 = float(input(\"Enter the value of width at upstream:3.5 \"))\n",
        "B2 = float(input(\"Enter the value of width at downstream:2.5 \"))\n",
        "g = float(input(\"Enter the value of acceleration due to Gravity:9.81 \"))\n",
        "y1 = float(input(\"enter the value of upstream depth:2 \"))\n",
        "# Dicharge per meter width\n",
        "ql=Q/B1\n",
        "q2= Q/B2\n",
        "print (\"The value of discharge per meter width is:'\", ql) # Changed q1 to ql\n",
        "print (\"The value of discharge per meter width is:\", q2)\n",
        "# Area Calculation\n",
        "A1 = B1*y1\n",
        "print(\"The value of upstream area is:\", A1)\n",
        "# Calculation of Froude Number\n",
        "Fr1 = ((Q*Q*B1)/(g*A1*A1*A1)) ** 0.5\n",
        "print(\"The value of Froude number is:\", Fr1)\n",
        "if Fr1 > 1:\n",
        "    print(\"The flow is Super Critical Flow\")\n",
        "else:\n",
        "    print(\"The flow is Sub Critical Flow\")\n",
        "\n",
        "# Upstream Energy\n",
        "E1 = y1 + (Q * Q) / (2 * e * A1 * A1)\n",
        "print(\"The value of Energy at initial Section is:\", E1)\n",
        "\n",
        "# Assuming \"B2min\" is a type alias and not a variable\n",
        "# (type alias) B2min: Any dition\n",
        "B2min = (27 * Q * Q / (8 * g * E1 * E1 * E1)) ** 0.5\n",
        "print(\"The value of minimum width to be kept to avoid Chocking is:\", B2min)\n",
        "if B2min > B2:\n",
        "    print (\"Chocking Condition\")\n",
        "else:\n",
        "    print (\"SAFE\")\n",
        "# Critical Depth\n",
        "# You need to decide whether to use B1 or B2 for the width in the critical depth calculation\n",
        "yc = ((Q*Q)/(B1**2*82*e)) **(1/3)  # Changed 'B' to 'B1', adjust as needed\n",
        "print (\"The Value of critical depth is: \", yc)\n",
        "Ec = 1.5*yc\n",
        "print (\"The value of critical Energy is\", Ec)\n"
      ],
      "metadata": {
        "colab": {
          "base_uri": "https://localhost:8080/"
        },
        "id": "UbgsWyhL4yD7",
        "outputId": "b58a4aa8-f4ba-4343-b12f-151f4d54a7e4"
      },
      "execution_count": null,
      "outputs": [
        {
          "output_type": "stream",
          "name": "stdout",
          "text": [
            "Enter the value of Discharge:15 15\n",
            "Enter the value of width at upstream:3.5 3.5\n",
            "Enter the value of width at downstream:2.5 2.5\n",
            "Enter the value of acceleration due to Gravity:9.81 9.81\n",
            "enter the value of upstream depth:2 2\n",
            "The value of discharge per meter width is:' 4.285714285714286\n",
            "The value of discharge per meter width is: 6.0\n",
            "The value of upstream area is: 7.0\n",
            "The value of Froude number is: 0.4837753296275688\n",
            "The flow is Sub Critical Flow\n",
            "The value of Energy at initial Section is: 2.4591836734693877\n",
            "The value of minimum width to be kept to avoid Chocking is: 2.281430239322494\n",
            "SAFE\n",
            "The Value of critical depth is:  0.35515739147413916\n",
            "The value of critical Energy is 0.5327360872112088\n"
          ]
        }
      ]
    },
    {
      "cell_type": "code",
      "source": [
        "# Design of Efficient Channel Section\n",
        "Q = float(input(\"Enter the value of Discharge in cumecs:100 \"))\n",
        "n = float(input(\"Enter the value of Rugosity coefficient:0.015 \"))\n",
        "So = float(input(\"Enter the value of bed slope:0.0004 \"))\n",
        "g = float(input(\"Enter the value of acceleration due to Gravity:9.81 \"))\n",
        "#Manning's Formula\n",
        "#Q = (AR^2/3 S^1/2)/n\n",
        "yn = (Q*n*50*1.591)/(1.732) ** (3/8)\n",
        "print (\"The Value of yn is\", yn)\n",
        "#To encounter the effect of free board\n",
        "yn1= 1.1*yn\n",
        "print(\"The Value of yn1 is\", yn1)\n",
        "# Cross Sectional Area\n",
        "A = 1.732 * yn * yn1\n",
        "print(\"The cross sectional Area is:\", A)\n",
        "# Top Width\n",
        "T= 4* yn/1.732\n",
        "print(\"The value of top Width is:\", T)\n",
        "# Bottom Width\n",
        "B = 2 * yn / 1.732\n",
        "print(\"The value of Bottom Width is:\", B)\n",
        "# Fixed the undefined variable 'QT' by replacing it with 'Q * T'\n",
        "Fr = ((Q * Q * T) / (g * A * A * A)) * 0.5\n",
        "print (\"The value of Froude number is:\", Fr)\n",
        "if Fr>1:\n",
        "    print(\"The flow is Super Critical Flow\")\n",
        "else:\n",
        "    print(\"The flow is Sub Critical Flow\")"
      ],
      "metadata": {
        "colab": {
          "base_uri": "https://localhost:8080/"
        },
        "id": "CqyXKvit49jW",
        "outputId": "56d22cf6-22fe-4a6c-c05b-1538980cd37d"
      },
      "execution_count": null,
      "outputs": [
        {
          "output_type": "stream",
          "name": "stdout",
          "text": [
            "Enter the value of Discharge in cumecs:100 100\n",
            "Enter the value of Rugosity coefficient:0.015 0.015\n",
            "Enter the value of bed slope:0.0004 0.004\n",
            "Enter the value of acceleration due to Gravity:9.81 9.81\n",
            "The Value of yn is 97.11269022539724\n",
            "The Value of yn1 is 106.82395924793698\n",
            "The cross sectional Area is: 17967.70229328117\n",
            "The value of top Width is: 224.27873031269573\n",
            "The value of Bottom Width is: 112.13936515634786\n",
            "The value of Froude number is: 1.9706588875002574e-08\n",
            "The flow is Sub Critical Flow\n"
          ]
        }
      ]
    }
  ]
}