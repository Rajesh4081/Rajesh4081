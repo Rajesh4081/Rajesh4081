{
  "nbformat": 4,
  "nbformat_minor": 0,
  "metadata": {
    "colab": {
      "provenance": []
    },
    "kernelspec": {
      "name": "python3",
      "display_name": "Python 3"
    },
    "language_info": {
      "name": "python"
    }
  },
  "cells": [
    {
      "cell_type": "markdown",
      "source": [
        "1. The infiltration capacity of soil in a small watershed is found to be\n",
        "6cm/hr before rainfall event. It was found to be 1.2 cm/hr at the end of8\n",
        "hours storm. If the decay coefficient is 0.888 /hour, Find the total\n",
        "infiltration during these 8 hours by using Horton's equation."
      ],
      "metadata": {
        "id": "5CG6jzPdBwOI"
      }
    },
    {
      "cell_type": "code",
      "source": [
        "# Calculation of total Infiltration by Horton's Equation\n",
        "fo = float(input(\"Enter the value of initial Infiltration Rate:\"))\n",
        "fc= float (input(\"Enter the value of Final infiltration Rate:\"))\n",
        "t= int(input(\"Enter the value of Time:\"))\n",
        "kh= float(input(\"Enter the value of Decay Coefficient:\"))\n",
        "# The total Infiltration is given by:\n",
        "fc = float(input(\"Enter the value of fc: \"))\n",
        "t = float(input(\"Enter the value of t: \"))\n",
        "fo = float(input(\"Enter the value of fo: \"))\n",
        "Fp= fc + t + (fo - fc)/kh # Assuming fc, t, and fo are strings\n",
        "print (\"The value of Total Infiltration is:\", Fp)\n",
        ""
      ],
      "metadata": {
        "colab": {
          "base_uri": "https://localhost:8080/"
        },
        "id": "BFOBcrSGBz3_",
        "outputId": "83f1edaa-9362-4271-e021-0018e68f9c17"
      },
      "execution_count": 6,
      "outputs": [
        {
          "output_type": "stream",
          "name": "stdout",
          "text": [
            "Enter the value of initial Infiltration Rate:6\n",
            "Enter the value of Final infiltration Rate:1.2\n",
            "Enter the value of Time:8\n",
            "Enter the value of Decay Coefficient:0.888\n",
            "Enter the value of fc: 1.2\n",
            "Enter the value of t: 8\n",
            "Enter the value of fo: 6\n",
            "The value of Total Infiltration is: 14.605405405405405\n"
          ]
        }
      ]
    },
    {
      "cell_type": "markdown",
      "source": [
        "For a drainage basin of 640 km, isohetals based on a storm event yield\n",
        "the following data: calculate the mean precipitation."
      ],
      "metadata": {
        "id": "reKAr20VDxFZ"
      }
    },
    {
      "cell_type": "code",
      "source": [
        "#Calculation of Mean precipitation by theissen's polygon Method\n",
        "#The value of precipitation at Each station is\n",
        "p1=int(input(\"Enter the value of rainfall at Station 1:\"))\n",
        "p2=int(input(\"Enter the value of rainfall at Station 2:\"))\n",
        "p3 =int(input(\"Enter the value of rainfall at Station 3:\"))\n",
        "p4 =int(input(\"Enter the value of rainfall at Station 4:\"))\n",
        "p5 =int(input(\"Enter the value of rainfall at Station 5:\"))\n",
        "#Area for each station\n",
        "A1= int(input(\"Enter the value of Catchment Area for raingauge station 1:\"))\n",
        "A2= int(input(\"Enter the value of Catchment Area for raingauge station 2:\"))\n",
        "A3 =int(input(\"Enter the value of Catchment Area for raingauge station 3:\"))\n",
        "A4=int(input(\"Enter the value of Catchment Area for raingauge station 4:\"))\n",
        "A5= int(input(\"Enter the value of Catchment Area for raingauge station 5:\"))\n",
        "#The total catchment area is\n",
        "A=A1 + A2 + A3 + A4+ A5\n",
        "print (\"The value of Total Catchment area is:\", A)\n",
        "# Runoff Volume\n",
        "#The volume shall be multiplied by the coefficient 2500 to cater scale effects\n",
        "#Runoff Volume\n",
        "V= (p1* A1 + p2* A2+ p3* A3+ p4 *A4+p5* A5)*2500 # Changed Al to A1\n",
        "print (\"The runoff volume from the given catchment is:\", V)\n",
        "# Mean Precipitation\n",
        "p = (p1 * A1+ p2 * A2 + p3 * A3+ p4 * A4+ p5 * A5)/A\n",
        "print (\"The value of Mean Precipitalon is:\", p)\n",
        "\n"
      ],
      "metadata": {
        "colab": {
          "base_uri": "https://localhost:8080/"
        },
        "id": "SdOIOGNiD53o",
        "outputId": "30eb9ef9-5a18-415f-96cb-e5718f81dc3b"
      },
      "execution_count": 23,
      "outputs": [
        {
          "output_type": "stream",
          "name": "stdout",
          "text": [
            "Enter the value of rainfall at Station 1:125\n",
            "Enter the value of rainfall at Station 2:175\n",
            "Enter the value of rainfall at Station 3:225\n",
            "Enter the value of rainfall at Station 4:275\n",
            "Enter the value of rainfall at Station 5:325\n",
            "Enter the value of Catchment Area for raingauge station 1:25\n",
            "Enter the value of Catchment Area for raingauge station 2:30\n",
            "Enter the value of Catchment Area for raingauge station 3:30\n",
            "Enter the value of Catchment Area for raingauge station 4:10\n",
            "Enter the value of Catchment Area for raingauge station 5:5\n",
            "The value of Total Catchment area is: 100\n",
            "The runoff volume from the given catchment is: 48750000\n",
            "The value of Mean Precipitalon is: 195.0\n"
          ]
        }
      ]
    },
    {
      "cell_type": "markdown",
      "source": [
        "The recorded annual rainfall from 5 rain gauge stations in a catchment\n",
        "and the corresponding Theissen polygon area as follows:\n",
        "\n",
        "If thc scale of the map is 1:50000 estimate the volume and the mean depth o\n",
        "rainfall"
      ],
      "metadata": {
        "id": "hu8MvjLNGm7H"
      }
    },
    {
      "cell_type": "code",
      "source": [
        "#Calculation of Mean precipitation by Isohytel Method\n",
        "#The value of precipitation at Each station i\n",
        "p1=int(input(\"Enter the value of rainfall at Station 1: \"))\n",
        "D2= int(input(\"Enter the value of rainfall at Station 2: \"))\n",
        "D3=int(input(\"Enter the value of rainfall at Station 3: \"))\n",
        "p4=int(input(\"Enter the value of rainfall at Station 4:\"))\n",
        "p5= int(input(\"Enter the value of rainfall at Station 5:\"))\n",
        "p6=int(input(\"Enter the value of rainfall at Station 6:\"))\n",
        "p7= int(input(\"Enter the value of rainfall at Station 7:\"))\n",
        "p8=int(input(\"Enter the value of rainfall at Station 8:\"))\n",
        "# Area for each station\n",
        "A1= int(input(\"Enter the value of Catchment Area for raingage station 1:\"))\n",
        "A2= int(input(\"Enter the value of Catchment Area for raingauge station 2:\"))\n",
        "A3= int(input(\"Enter the value of Catchment Area for raingauge station 3:\"))\n",
        "A4=int(input(\"Enter the value of Catchnent Area for reingauge station 4:\"))\n",
        "A5= int(input(\" Enter the value of Catchment Ares for raingauge station 5:\"))\n",
        "A6= int(input(\"Enter the value of Catchment Area for raingeuge station 6:\"))\n",
        "A7= int (input(\"Enter the value of Catchment Area for reingauge station 7:\"))\n",
        "# The total catchment area is\n",
        "A = A1 + A2 + A3 + A4 + A5 + A6 + A7\n",
        "print (\"The value of Total Catchment ar ea is :\", A)\n",
        "# Mean Precipitation\n",
        "p = ((p1 + p2) * A1 / 2 + (p2 + p3) * A2 / 2 + (p3 - p4) * A3 / 2 + (p4 + p5) * A4 / 2 + (p5 + p6) * A5 / 2 + (p6 + p7) * A6 / 2 + (p7+p8)*A7/2)/A\n",
        "print (\"the value of Mean Precipitalon is:\")\n",
        "print(p) # Added to print the result"
      ],
      "metadata": {
        "colab": {
          "base_uri": "https://localhost:8080/"
        },
        "id": "a0_iOPylGvQH",
        "outputId": "a74e6db9-5e30-423b-fe75-07878cfe4d68"
      },
      "execution_count": 48,
      "outputs": [
        {
          "output_type": "stream",
          "name": "stdout",
          "text": [
            "Enter the value of rainfall at Station 1: 14\n",
            "Enter the value of rainfall at Station 2: 12\n",
            "Enter the value of rainfall at Station 3: 10\n",
            "Enter the value of rainfall at Station 4:8\n",
            "Enter the value of rainfall at Station 5:6\n",
            "Enter the value of rainfall at Station 6:4\n",
            "Enter the value of rainfall at Station 7:2\n",
            "Enter the value of rainfall at Station 8:0\n",
            "Enter the value of Catchment Area for raingage station 1:90\n",
            "Enter the value of Catchment Area for raingauge station 2:140\n",
            "Enter the value of Catchment Area for raingauge station 3:125\n",
            "Enter the value of Catchnent Area for reingauge station 4:140\n",
            " Enter the value of Catchment Ares for raingauge station 5:85\n",
            "Enter the value of Catchment Area for raingeuge station 6:40\n",
            "Enter the value of Catchment Area for reingauge station 7:20\n",
            "The value of Total Catchment ar ea is : 640\n",
            "the value of Mean Precipitalon is:\n",
            "80.64453125\n"
          ]
        }
      ]
    }
  ]
}